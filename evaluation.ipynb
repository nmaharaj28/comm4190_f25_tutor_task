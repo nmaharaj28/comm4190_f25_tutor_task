{
 "cells": [
  {
   "cell_type": "markdown",
   "id": "2b55234f-c06a-4d05-812b-ca3365bd61cb",
   "metadata": {},
   "source": [
    "## Your subjective experience of being tutored in both sessions\n",
    "\n",
    "Tutoring in the first experience, with the unstructured prompt, was very tedious and not helpful at all. It was frustrating that the conversation primarily focused on the pronunciation of Latin words rather than actual Latin vocabulary and grammar. It was also strange that the AI would give me the answer within its prompt, so I was not learning at all. Learning pronunciation is better suited for in-person learning so I was confused that AI spent so long on this topic. The second experience, with the structured prompt, was much stronger. AI asked me what I wanted to learn Latin for, and incorporated it quite strongly into the tutoring session. It explained the origin and relationship between English words and Latin words. It also seamlessly blended conjugation into the tutoring session, so I was learning Latin grammar effectively. It also simulated a mock conversation for me, which was helpful!\n",
    "\n",
    "## Make some observations on particular wording in the responses from the LLMs in both sessions and evaluate how well they represent appropriate tutoring communication.\n",
    "\n",
    "During the second session, AI ensured that I understood each concept before moving it. It signaled this by telling me that it was waiting for me to confirm before moving on. The second session was also much more helpful in specifically pointing out what I did wrong verus right."
   ]
  },
  {
   "cell_type": "code",
   "execution_count": null,
   "id": "e2007225-45bb-420c-a032-82752f0bf9b4",
   "metadata": {},
   "outputs": [],
   "source": []
  }
 ],
 "metadata": {
  "kernelspec": {
   "display_name": "Python 3-12 (COMM4190)",
   "language": "python",
   "name": "python3-12_comm4190"
  },
  "language_info": {
   "codemirror_mode": {
    "name": "ipython",
    "version": 3
   },
   "file_extension": ".py",
   "mimetype": "text/x-python",
   "name": "python",
   "nbconvert_exporter": "python",
   "pygments_lexer": "ipython3",
   "version": "3.12.11"
  }
 },
 "nbformat": 4,
 "nbformat_minor": 5
}
